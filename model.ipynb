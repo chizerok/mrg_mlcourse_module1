{
 "cells": [
  {
   "cell_type": "code",
   "execution_count": 44,
   "metadata": {},
   "outputs": [],
   "source": [
    "import numpy as np\n",
    "import matplotlib.pyplot as plt\n",
    "import math\n",
    "from sklearn.metrics import classification_report\n",
    "from sklearn.model_selection import train_test_split\n",
    "import copy\n",
    "import random\n",
    "from mnist import MNIST\n"
   ]
  },
  {
   "cell_type": "code",
   "execution_count": 45,
   "metadata": {},
   "outputs": [],
   "source": [
    "x_train_dir = './data'\n",
    "mndata = MNIST(x_train_dir)\n",
    "mndata.gz = True\n",
    "\n",
    "X, y = mndata.load_training()"
   ]
  },
  {
   "cell_type": "code",
   "execution_count": 4,
   "metadata": {},
   "outputs": [],
   "source": [
    "X = np.array(X)"
   ]
  },
  {
   "cell_type": "code",
   "execution_count": 5,
   "metadata": {},
   "outputs": [
    {
     "name": "stdout",
     "output_type": "stream",
     "text": [
      "60000 784\n"
     ]
    }
   ],
   "source": [
    "record_num, features_num = X.shape\n",
    "print( record_num, features_num)"
   ]
  },
  {
   "cell_type": "code",
   "execution_count": 6,
   "metadata": {},
   "outputs": [],
   "source": [
    "def scale_data(X):\n",
    "    X = X / 255\n",
    "    \n",
    "    return X"
   ]
  },
  {
   "cell_type": "code",
   "execution_count": 7,
   "metadata": {},
   "outputs": [],
   "source": [
    "X = scale_data(X)"
   ]
  },
  {
   "cell_type": "code",
   "execution_count": 8,
   "metadata": {},
   "outputs": [
    {
     "name": "stdout",
     "output_type": "stream",
     "text": [
      "60000 785\n"
     ]
    }
   ],
   "source": [
    "bias_f = np.ones((record_num, 1))\n",
    "X = np.hstack((bias_f, X))\n",
    "\n",
    "record_num, features_num = X.shape\n",
    "print( record_num, features_num)"
   ]
  },
  {
   "cell_type": "code",
   "execution_count": null,
   "metadata": {},
   "outputs": [],
   "source": []
  },
  {
   "cell_type": "code",
   "execution_count": 10,
   "metadata": {},
   "outputs": [],
   "source": [
    "# ДАННЫЕ ГОТОВЫ"
   ]
  },
  {
   "cell_type": "code",
   "execution_count": 11,
   "metadata": {},
   "outputs": [],
   "source": [
    "def dot_product(features, weights):\n",
    "    inner_sum = np.sum(features * weights)\n",
    "        \n",
    "    return inner_sum"
   ]
  },
  {
   "cell_type": "code",
   "execution_count": 12,
   "metadata": {},
   "outputs": [],
   "source": []
  },
  {
   "cell_type": "code",
   "execution_count": 13,
   "metadata": {},
   "outputs": [],
   "source": [
    "def init_weights(features_num, a, b):\n",
    "    return np.array(a + (b - a) * np.random.random(features_num))"
   ]
  },
  {
   "cell_type": "code",
   "execution_count": 14,
   "metadata": {},
   "outputs": [],
   "source": [
    "def num_gradient_st(loss_fun, predict_fun, X, y, model_weights, w_delta=0.01, lambd=1):\n",
    "    i = np.random.randint(0, len(X) - 1)\n",
    "    current_loss = loss_fun(predict_fun(X[i], model_weights), y[i], model_weights)\n",
    "    weights_delta = model_weights[:]\n",
    "    grad = []\n",
    "    \n",
    "    for coord in range(len(model_weights)):\n",
    "        weights_delta[coord] += w_delta\n",
    "        delta_loss = loss_fun(predict_fun(X[i], weights_delta), y[i], weights_delta)\n",
    "        deriv = (delta_loss - current_loss) / w_delta\n",
    "        grad.append(deriv)\n",
    "        weights_delta[coord] -= w_delta\n",
    "        \n",
    "    return np.array(grad)"
   ]
  },
  {
   "cell_type": "code",
   "execution_count": 15,
   "metadata": {},
   "outputs": [],
   "source": [
    "def gradient_descent(loss_fun, predict_fun, X, y, initial_weights, learning_rate, iter_num, verbose=True, lambd=1):\n",
    "    model_weights = initial_weights[:]\n",
    "    \n",
    "    for counter in range(iter_num):\n",
    "        grad = num_gradient_st(loss_fun, predict_fun, X, y, model_weights)\n",
    "        model_weights -= learning_rate * grad\n",
    "        #loss = loss_fun(X, y, model_weights)\n",
    "        \n",
    "        #if verbose:\n",
    "        #    print(\"Iter: %i, loss_value: %f\" % (counter, loss))\n",
    "        \n",
    "    return model_weights"
   ]
  },
  {
   "cell_type": "code",
   "execution_count": 16,
   "metadata": {},
   "outputs": [],
   "source": [
    "def one_vs_all(y, value):\n",
    "    y_new = []\n",
    "    for i in range(len(y)):\n",
    "        if y[i] == value:\n",
    "            y_new.append(1)\n",
    "        else:\n",
    "            y_new.append(-1)\n",
    "    return y_new"
   ]
  },
  {
   "cell_type": "code",
   "execution_count": 18,
   "metadata": {},
   "outputs": [],
   "source": [
    "def svm_predict(features, weights):\n",
    "    score = dot_product(features, weights)\n",
    "    \n",
    "    return score"
   ]
  },
  {
   "cell_type": "code",
   "execution_count": 19,
   "metadata": {},
   "outputs": [],
   "source": [
    "def my_loss(predicted_value, true_value, model_weights):\n",
    "    result = np.sum(model_weights * model_weights)/100000 + max(0.0, 1.0 - predicted_value * true_value)\n",
    "        \n",
    "    return result"
   ]
  },
  {
   "cell_type": "code",
   "execution_count": 20,
   "metadata": {},
   "outputs": [],
   "source": [
    "def one_vs_all(y, value):\n",
    "    y_new = []\n",
    "    for i in range(len(y)):\n",
    "        if y[i] == value:\n",
    "            y_new.append(1)\n",
    "        else:\n",
    "            y_new.append(-1)\n",
    "    return y_new"
   ]
  },
  {
   "cell_type": "code",
   "execution_count": 21,
   "metadata": {},
   "outputs": [],
   "source": [
    "def find_10_weights(X, y_bin, learning_rate=0.1, iter_num=100, gradient_descent=gradient_descent, lambd=1):\n",
    "    weights_vector = []\n",
    "    for yi in y_bin:\n",
    "        initial_weights = init_weights(features_num, -0.5, 0.5)\n",
    "        optimal_weights_i = gradient_descent(my_loss, svm_predict, X, yi, initial_weights, learning_rate, iter_num, lambd)\n",
    "        weights_vector.append(optimal_weights_i)\n",
    "    return weights_vector\n",
    "        \n",
    "        \n",
    "    \n",
    "    \n",
    "    "
   ]
  },
  {
   "cell_type": "code",
   "execution_count": 22,
   "metadata": {},
   "outputs": [],
   "source": [
    "def y_split(y):\n",
    "    y_10 = []\n",
    "    for i in range(10):\n",
    "        yi = one_vs_all(y, i)\n",
    "        y_10.append(yi)\n",
    "    return np.array(y_10)"
   ]
  },
  {
   "cell_type": "code",
   "execution_count": null,
   "metadata": {},
   "outputs": [],
   "source": []
  },
  {
   "cell_type": "code",
   "execution_count": null,
   "metadata": {},
   "outputs": [],
   "source": []
  },
  {
   "cell_type": "code",
   "execution_count": 39,
   "metadata": {},
   "outputs": [],
   "source": [
    "def last_predict(X, weights_vector):\n",
    "    predict_y = []\n",
    "    for elem in X:\n",
    "        score = []\n",
    "        for weights in weights_vector:\n",
    "            score.append(np.sum(elem*weights))\n",
    "        score = np.array(score)\n",
    "        i, = np.where(score == np.max(score))\n",
    "        #if int(i) == 8:\n",
    "         #   if score[9] / score[8] > 1/1.5:\n",
    "          #      i = 9\n",
    "        predict_y.append(int(i))\n",
    "    return predict_y"
   ]
  },
  {
   "cell_type": "code",
   "execution_count": null,
   "metadata": {},
   "outputs": [],
   "source": []
  },
  {
   "cell_type": "code",
   "execution_count": null,
   "metadata": {},
   "outputs": [],
   "source": []
  },
  {
   "cell_type": "code",
   "execution_count": 25,
   "metadata": {},
   "outputs": [],
   "source": [
    "X_train, X_val, y_train, y_val = train_test_split(X, y, test_size=0.2, random_state=1)\n"
   ]
  },
  {
   "cell_type": "code",
   "execution_count": 26,
   "metadata": {},
   "outputs": [],
   "source": [
    "y_train_binary = y_split(y_train)"
   ]
  },
  {
   "cell_type": "code",
   "execution_count": 27,
   "metadata": {},
   "outputs": [],
   "source": [
    "y_val_binary = y_split(y_val)"
   ]
  },
  {
   "cell_type": "code",
   "execution_count": null,
   "metadata": {},
   "outputs": [],
   "source": []
  },
  {
   "cell_type": "code",
   "execution_count": null,
   "metadata": {},
   "outputs": [],
   "source": []
  },
  {
   "cell_type": "code",
   "execution_count": 28,
   "metadata": {},
   "outputs": [
    {
     "name": "stdout",
     "output_type": "stream",
     "text": [
      "Wall time: 8h 44min 9s\n"
     ]
    }
   ],
   "source": [
    "%%time\n",
    "opt_weights_vector350000 = find_10_weights(X_train, y_train_binary, iter_num = 350000, learning_rate=0.01)"
   ]
  },
  {
   "cell_type": "code",
   "execution_count": 29,
   "metadata": {},
   "outputs": [],
   "source": [
    "np.save('model_weights350000.npy', opt_weights_vector350000, allow_pickle=False)"
   ]
  },
  {
   "cell_type": "code",
   "execution_count": 35,
   "metadata": {},
   "outputs": [],
   "source": [
    "np.save('model_weights.npy', opt_weights_vector350000, allow_pickle=False)"
   ]
  },
  {
   "cell_type": "code",
   "execution_count": null,
   "metadata": {},
   "outputs": [],
   "source": []
  },
  {
   "cell_type": "code",
   "execution_count": 42,
   "metadata": {},
   "outputs": [],
   "source": [
    "predicted_value_train = last_predict(X, opt_weights_vector350000)"
   ]
  },
  {
   "cell_type": "code",
   "execution_count": 43,
   "metadata": {},
   "outputs": [
    {
     "name": "stdout",
     "output_type": "stream",
     "text": [
      "             precision    recall  f1-score   support\n",
      "\n",
      "          0       0.96      0.97      0.97      5923\n",
      "          1       0.92      0.98      0.95      6742\n",
      "          2       0.91      0.90      0.91      5958\n",
      "          3       0.95      0.83      0.89      6131\n",
      "          4       0.89      0.95      0.92      5842\n",
      "          5       0.83      0.90      0.86      5421\n",
      "          6       0.96      0.94      0.95      5918\n",
      "          7       0.93      0.94      0.93      6265\n",
      "          8       0.88      0.85      0.86      5851\n",
      "          9       0.90      0.86      0.88      5949\n",
      "\n",
      "avg / total       0.91      0.91      0.91     60000\n",
      "\n"
     ]
    }
   ],
   "source": [
    "print(classification_report(np.array(y), predicted_value_train))"
   ]
  },
  {
   "cell_type": "code",
   "execution_count": null,
   "metadata": {},
   "outputs": [],
   "source": []
  },
  {
   "cell_type": "code",
   "execution_count": 40,
   "metadata": {},
   "outputs": [],
   "source": [
    "predicted_value_val = last_predict(X_val, opt_weights_vector350000)"
   ]
  },
  {
   "cell_type": "code",
   "execution_count": 41,
   "metadata": {},
   "outputs": [
    {
     "name": "stdout",
     "output_type": "stream",
     "text": [
      "             precision    recall  f1-score   support\n",
      "\n",
      "          0       0.96      0.97      0.96      1158\n",
      "          1       0.91      0.98      0.95      1373\n",
      "          2       0.91      0.89      0.90      1194\n",
      "          3       0.95      0.81      0.88      1237\n",
      "          4       0.86      0.95      0.90      1157\n",
      "          5       0.81      0.90      0.85      1110\n",
      "          6       0.96      0.93      0.94      1187\n",
      "          7       0.92      0.93      0.93      1265\n",
      "          8       0.85      0.82      0.83      1172\n",
      "          9       0.90      0.85      0.87      1147\n",
      "\n",
      "avg / total       0.91      0.90      0.90     12000\n",
      "\n"
     ]
    }
   ],
   "source": [
    "print(classification_report(np.array(y_val), predicted_value_val))"
   ]
  },
  {
   "cell_type": "code",
   "execution_count": null,
   "metadata": {},
   "outputs": [],
   "source": []
  }
 ],
 "metadata": {
  "kernelspec": {
   "display_name": "Python 3",
   "language": "python",
   "name": "python3"
  },
  "language_info": {
   "codemirror_mode": {
    "name": "ipython",
    "version": 3
   },
   "file_extension": ".py",
   "mimetype": "text/x-python",
   "name": "python",
   "nbconvert_exporter": "python",
   "pygments_lexer": "ipython3",
   "version": "3.7.0"
  }
 },
 "nbformat": 4,
 "nbformat_minor": 2
}
